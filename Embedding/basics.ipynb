{
 "cells": [
  {
   "cell_type": "code",
   "execution_count": 1,
   "metadata": {},
   "outputs": [],
   "source": [
    "import os\n",
    "from dotenv import load_dotenv"
   ]
  },
  {
   "cell_type": "code",
   "execution_count": 2,
   "metadata": {},
   "outputs": [
    {
     "data": {
      "text/plain": [
       "True"
      ]
     },
     "execution_count": 2,
     "metadata": {},
     "output_type": "execute_result"
    }
   ],
   "source": [
    "load_dotenv(dotenv_path='../.env')"
   ]
  },
  {
   "cell_type": "code",
   "execution_count": 3,
   "metadata": {},
   "outputs": [],
   "source": [
    "model_id = \"sentence-transformers/all-MiniLM-L6-v2\"\n",
    "hf_token = os.environ[\"API_TOKEN\"]"
   ]
  },
  {
   "cell_type": "code",
   "execution_count": 4,
   "metadata": {},
   "outputs": [],
   "source": [
    "import requests"
   ]
  },
  {
   "cell_type": "code",
   "execution_count": 5,
   "metadata": {},
   "outputs": [],
   "source": [
    "api_url = f\"https://api-inference.huggingface.co/pipeline/feature-extraction/{model_id}\"\n",
    "headers = {\"Authorization\": f\"Bearer {hf_token}\"}  # API token"
   ]
  },
  {
   "cell_type": "code",
   "execution_count": 6,
   "metadata": {},
   "outputs": [],
   "source": [
    "def query(texts):\n",
    "    '''This method returns the embeddings of the input texts'''\n",
    "    response = requests.post(api_url, headers=headers, json={\"inputs\": texts, \"options\":{\"wait_for_model\":True}})\n",
    "    return response.json()"
   ]
  },
  {
   "cell_type": "code",
   "execution_count": 7,
   "metadata": {},
   "outputs": [],
   "source": [
    "texts = [\"How do I get a replacement Medicare card?\",\n",
    "        \"What is the monthly premium for Medicare Part B?\",\n",
    "        \"How do I terminate my Medicare Part B (medical insurance)?\",\n",
    "        \"How do I sign up for Medicare?\",\n",
    "        \"Can I sign up for Medicare Part B if I am working and have health insurance through an employer?\",\n",
    "        \"How do I sign up for Medicare Part B if I already have Part A?\",\n",
    "        \"What are Medicare late enrollment penalties?\",\n",
    "        \"What is Medicare and who can get it?\",\n",
    "        \"How can I get help with my Medicare Part A and Part B premiums?\",\n",
    "        \"What are the different parts of Medicare?\",\n",
    "        \"Will my Medicare premiums be higher because of my higher income?\",\n",
    "        \"What is TRICARE ?\",\n",
    "        \"Should I sign up for Medicare Part B if I have Veterans' Benefits?\"]\n",
    "\n",
    "output = query(texts)"
   ]
  },
  {
   "cell_type": "code",
   "execution_count": 8,
   "metadata": {},
   "outputs": [],
   "source": [
    "import pandas as pd\n",
    "embeddings = pd.DataFrame(output)\n"
   ]
  },
  {
   "cell_type": "code",
   "execution_count": 9,
   "metadata": {},
   "outputs": [
    {
     "data": {
      "text/html": [
       "<div>\n",
       "<style scoped>\n",
       "    .dataframe tbody tr th:only-of-type {\n",
       "        vertical-align: middle;\n",
       "    }\n",
       "\n",
       "    .dataframe tbody tr th {\n",
       "        vertical-align: top;\n",
       "    }\n",
       "\n",
       "    .dataframe thead th {\n",
       "        text-align: right;\n",
       "    }\n",
       "</style>\n",
       "<table border=\"1\" class=\"dataframe\">\n",
       "  <thead>\n",
       "    <tr style=\"text-align: right;\">\n",
       "      <th></th>\n",
       "      <th>0</th>\n",
       "      <th>1</th>\n",
       "      <th>2</th>\n",
       "      <th>3</th>\n",
       "      <th>4</th>\n",
       "      <th>5</th>\n",
       "      <th>6</th>\n",
       "      <th>7</th>\n",
       "      <th>8</th>\n",
       "      <th>9</th>\n",
       "      <th>...</th>\n",
       "      <th>374</th>\n",
       "      <th>375</th>\n",
       "      <th>376</th>\n",
       "      <th>377</th>\n",
       "      <th>378</th>\n",
       "      <th>379</th>\n",
       "      <th>380</th>\n",
       "      <th>381</th>\n",
       "      <th>382</th>\n",
       "      <th>383</th>\n",
       "    </tr>\n",
       "  </thead>\n",
       "  <tbody>\n",
       "    <tr>\n",
       "      <th>0</th>\n",
       "      <td>-0.023889</td>\n",
       "      <td>0.055259</td>\n",
       "      <td>-0.011655</td>\n",
       "      <td>-0.033414</td>\n",
       "      <td>-0.012261</td>\n",
       "      <td>-0.024873</td>\n",
       "      <td>-0.012663</td>\n",
       "      <td>0.025346</td>\n",
       "      <td>0.018508</td>\n",
       "      <td>-0.083508</td>\n",
       "      <td>...</td>\n",
       "      <td>-0.161688</td>\n",
       "      <td>-0.046426</td>\n",
       "      <td>0.006004</td>\n",
       "      <td>0.005281</td>\n",
       "      <td>-0.003342</td>\n",
       "      <td>0.027754</td>\n",
       "      <td>0.020411</td>\n",
       "      <td>0.005778</td>\n",
       "      <td>0.034098</td>\n",
       "      <td>-0.006889</td>\n",
       "    </tr>\n",
       "    <tr>\n",
       "      <th>1</th>\n",
       "      <td>-0.012688</td>\n",
       "      <td>0.046874</td>\n",
       "      <td>-0.010502</td>\n",
       "      <td>-0.020384</td>\n",
       "      <td>-0.013361</td>\n",
       "      <td>0.042322</td>\n",
       "      <td>0.016628</td>\n",
       "      <td>-0.004099</td>\n",
       "      <td>-0.002607</td>\n",
       "      <td>-0.010188</td>\n",
       "      <td>...</td>\n",
       "      <td>-0.061594</td>\n",
       "      <td>-0.020717</td>\n",
       "      <td>-0.009082</td>\n",
       "      <td>-0.029260</td>\n",
       "      <td>-0.066253</td>\n",
       "      <td>0.065257</td>\n",
       "      <td>0.013229</td>\n",
       "      <td>-0.023103</td>\n",
       "      <td>-0.002785</td>\n",
       "      <td>0.010474</td>\n",
       "    </tr>\n",
       "    <tr>\n",
       "      <th>2</th>\n",
       "      <td>0.000494</td>\n",
       "      <td>0.119412</td>\n",
       "      <td>0.005229</td>\n",
       "      <td>-0.092734</td>\n",
       "      <td>0.007773</td>\n",
       "      <td>-0.005325</td>\n",
       "      <td>0.034506</td>\n",
       "      <td>-0.051981</td>\n",
       "      <td>-0.006265</td>\n",
       "      <td>-0.006111</td>\n",
       "      <td>...</td>\n",
       "      <td>-0.108326</td>\n",
       "      <td>-0.049646</td>\n",
       "      <td>-0.073399</td>\n",
       "      <td>-0.029898</td>\n",
       "      <td>-0.102734</td>\n",
       "      <td>0.062121</td>\n",
       "      <td>0.034606</td>\n",
       "      <td>0.016877</td>\n",
       "      <td>-0.023861</td>\n",
       "      <td>0.005264</td>\n",
       "    </tr>\n",
       "    <tr>\n",
       "      <th>3</th>\n",
       "      <td>-0.029711</td>\n",
       "      <td>0.023298</td>\n",
       "      <td>-0.057041</td>\n",
       "      <td>-0.012183</td>\n",
       "      <td>-0.013710</td>\n",
       "      <td>0.029796</td>\n",
       "      <td>0.063739</td>\n",
       "      <td>0.001101</td>\n",
       "      <td>-0.045124</td>\n",
       "      <td>-0.040748</td>\n",
       "      <td>...</td>\n",
       "      <td>-0.117682</td>\n",
       "      <td>0.031924</td>\n",
       "      <td>0.000854</td>\n",
       "      <td>0.020200</td>\n",
       "      <td>-0.020666</td>\n",
       "      <td>-0.005167</td>\n",
       "      <td>0.038370</td>\n",
       "      <td>0.003617</td>\n",
       "      <td>0.033993</td>\n",
       "      <td>-0.010255</td>\n",
       "    </tr>\n",
       "    <tr>\n",
       "      <th>4</th>\n",
       "      <td>-0.025628</td>\n",
       "      <td>0.070389</td>\n",
       "      <td>-0.017380</td>\n",
       "      <td>-0.056567</td>\n",
       "      <td>0.028577</td>\n",
       "      <td>0.052823</td>\n",
       "      <td>0.067063</td>\n",
       "      <td>-0.052618</td>\n",
       "      <td>-0.054702</td>\n",
       "      <td>-0.116230</td>\n",
       "      <td>...</td>\n",
       "      <td>-0.118145</td>\n",
       "      <td>0.013343</td>\n",
       "      <td>-0.055188</td>\n",
       "      <td>-0.032723</td>\n",
       "      <td>0.008436</td>\n",
       "      <td>0.019169</td>\n",
       "      <td>0.048212</td>\n",
       "      <td>-0.040412</td>\n",
       "      <td>0.083346</td>\n",
       "      <td>0.026855</td>\n",
       "    </tr>\n",
       "    <tr>\n",
       "      <th>5</th>\n",
       "      <td>-0.022656</td>\n",
       "      <td>0.021160</td>\n",
       "      <td>0.005105</td>\n",
       "      <td>-0.046494</td>\n",
       "      <td>0.009074</td>\n",
       "      <td>0.041495</td>\n",
       "      <td>0.054268</td>\n",
       "      <td>-0.024185</td>\n",
       "      <td>-0.013483</td>\n",
       "      <td>-0.075966</td>\n",
       "      <td>...</td>\n",
       "      <td>-0.100110</td>\n",
       "      <td>0.010750</td>\n",
       "      <td>-0.031469</td>\n",
       "      <td>-0.004822</td>\n",
       "      <td>0.039657</td>\n",
       "      <td>0.026384</td>\n",
       "      <td>0.045514</td>\n",
       "      <td>0.059089</td>\n",
       "      <td>-0.017509</td>\n",
       "      <td>0.007166</td>\n",
       "    </tr>\n",
       "    <tr>\n",
       "      <th>6</th>\n",
       "      <td>-0.002911</td>\n",
       "      <td>0.060791</td>\n",
       "      <td>-0.009176</td>\n",
       "      <td>-0.006133</td>\n",
       "      <td>0.040492</td>\n",
       "      <td>0.036594</td>\n",
       "      <td>0.002054</td>\n",
       "      <td>-0.031345</td>\n",
       "      <td>0.031806</td>\n",
       "      <td>-0.023495</td>\n",
       "      <td>...</td>\n",
       "      <td>-0.028763</td>\n",
       "      <td>-0.060458</td>\n",
       "      <td>-0.018598</td>\n",
       "      <td>-0.040189</td>\n",
       "      <td>-0.031486</td>\n",
       "      <td>-0.018299</td>\n",
       "      <td>0.002286</td>\n",
       "      <td>-0.073420</td>\n",
       "      <td>0.016235</td>\n",
       "      <td>-0.000244</td>\n",
       "    </tr>\n",
       "    <tr>\n",
       "      <th>7</th>\n",
       "      <td>-0.080526</td>\n",
       "      <td>0.059888</td>\n",
       "      <td>-0.048847</td>\n",
       "      <td>-0.040176</td>\n",
       "      <td>-0.063342</td>\n",
       "      <td>0.041848</td>\n",
       "      <td>0.119045</td>\n",
       "      <td>0.010652</td>\n",
       "      <td>-0.030095</td>\n",
       "      <td>-0.004561</td>\n",
       "      <td>...</td>\n",
       "      <td>-0.144566</td>\n",
       "      <td>0.020404</td>\n",
       "      <td>0.023088</td>\n",
       "      <td>0.005077</td>\n",
       "      <td>-0.055645</td>\n",
       "      <td>-0.007675</td>\n",
       "      <td>0.050791</td>\n",
       "      <td>-0.005989</td>\n",
       "      <td>0.134562</td>\n",
       "      <td>0.034817</td>\n",
       "    </tr>\n",
       "    <tr>\n",
       "      <th>8</th>\n",
       "      <td>-0.034388</td>\n",
       "      <td>0.072501</td>\n",
       "      <td>0.014440</td>\n",
       "      <td>-0.036695</td>\n",
       "      <td>0.014019</td>\n",
       "      <td>0.063070</td>\n",
       "      <td>0.034683</td>\n",
       "      <td>-0.014531</td>\n",
       "      <td>-0.059862</td>\n",
       "      <td>-0.045383</td>\n",
       "      <td>...</td>\n",
       "      <td>-0.114763</td>\n",
       "      <td>-0.035894</td>\n",
       "      <td>-0.019877</td>\n",
       "      <td>-0.033375</td>\n",
       "      <td>-0.030168</td>\n",
       "      <td>0.039412</td>\n",
       "      <td>0.044993</td>\n",
       "      <td>0.000578</td>\n",
       "      <td>-0.025124</td>\n",
       "      <td>0.034191</td>\n",
       "    </tr>\n",
       "    <tr>\n",
       "      <th>9</th>\n",
       "      <td>-0.005964</td>\n",
       "      <td>0.025044</td>\n",
       "      <td>-0.003182</td>\n",
       "      <td>-0.025243</td>\n",
       "      <td>-0.039823</td>\n",
       "      <td>-0.012772</td>\n",
       "      <td>0.044713</td>\n",
       "      <td>0.014535</td>\n",
       "      <td>-0.038213</td>\n",
       "      <td>-0.041149</td>\n",
       "      <td>...</td>\n",
       "      <td>-0.057621</td>\n",
       "      <td>0.021594</td>\n",
       "      <td>0.048983</td>\n",
       "      <td>-0.044541</td>\n",
       "      <td>-0.030137</td>\n",
       "      <td>0.006779</td>\n",
       "      <td>0.054854</td>\n",
       "      <td>0.029937</td>\n",
       "      <td>0.070214</td>\n",
       "      <td>0.041565</td>\n",
       "    </tr>\n",
       "    <tr>\n",
       "      <th>10</th>\n",
       "      <td>-0.039008</td>\n",
       "      <td>-0.010609</td>\n",
       "      <td>-0.007383</td>\n",
       "      <td>-0.050190</td>\n",
       "      <td>-0.002518</td>\n",
       "      <td>-0.041641</td>\n",
       "      <td>0.026969</td>\n",
       "      <td>-0.014801</td>\n",
       "      <td>-0.014127</td>\n",
       "      <td>-0.061637</td>\n",
       "      <td>...</td>\n",
       "      <td>-0.098168</td>\n",
       "      <td>-0.031694</td>\n",
       "      <td>-0.052128</td>\n",
       "      <td>0.014774</td>\n",
       "      <td>-0.091150</td>\n",
       "      <td>0.001324</td>\n",
       "      <td>0.053866</td>\n",
       "      <td>-0.083904</td>\n",
       "      <td>0.037684</td>\n",
       "      <td>0.002314</td>\n",
       "    </tr>\n",
       "    <tr>\n",
       "      <th>11</th>\n",
       "      <td>-0.095983</td>\n",
       "      <td>-0.063012</td>\n",
       "      <td>-0.116906</td>\n",
       "      <td>-0.059075</td>\n",
       "      <td>-0.051323</td>\n",
       "      <td>-0.003439</td>\n",
       "      <td>0.018687</td>\n",
       "      <td>0.006544</td>\n",
       "      <td>-0.049057</td>\n",
       "      <td>-0.031649</td>\n",
       "      <td>...</td>\n",
       "      <td>-0.041085</td>\n",
       "      <td>-0.008593</td>\n",
       "      <td>-0.021544</td>\n",
       "      <td>-0.021112</td>\n",
       "      <td>-0.019502</td>\n",
       "      <td>0.050040</td>\n",
       "      <td>-0.029175</td>\n",
       "      <td>0.005498</td>\n",
       "      <td>0.152892</td>\n",
       "      <td>0.024720</td>\n",
       "    </tr>\n",
       "    <tr>\n",
       "      <th>12</th>\n",
       "      <td>-0.011600</td>\n",
       "      <td>0.056510</td>\n",
       "      <td>0.016624</td>\n",
       "      <td>-0.094690</td>\n",
       "      <td>-0.009865</td>\n",
       "      <td>0.072347</td>\n",
       "      <td>0.044124</td>\n",
       "      <td>-0.041175</td>\n",
       "      <td>-0.042124</td>\n",
       "      <td>-0.102631</td>\n",
       "      <td>...</td>\n",
       "      <td>-0.135239</td>\n",
       "      <td>0.013612</td>\n",
       "      <td>-0.049410</td>\n",
       "      <td>-0.006925</td>\n",
       "      <td>0.085355</td>\n",
       "      <td>-0.007875</td>\n",
       "      <td>0.030402</td>\n",
       "      <td>-0.029012</td>\n",
       "      <td>0.001888</td>\n",
       "      <td>-0.000133</td>\n",
       "    </tr>\n",
       "  </tbody>\n",
       "</table>\n",
       "<p>13 rows × 384 columns</p>\n",
       "</div>"
      ],
      "text/plain": [
       "         0         1         2         3         4         5         6    \\\n",
       "0  -0.023889  0.055259 -0.011655 -0.033414 -0.012261 -0.024873 -0.012663   \n",
       "1  -0.012688  0.046874 -0.010502 -0.020384 -0.013361  0.042322  0.016628   \n",
       "2   0.000494  0.119412  0.005229 -0.092734  0.007773 -0.005325  0.034506   \n",
       "3  -0.029711  0.023298 -0.057041 -0.012183 -0.013710  0.029796  0.063739   \n",
       "4  -0.025628  0.070389 -0.017380 -0.056567  0.028577  0.052823  0.067063   \n",
       "5  -0.022656  0.021160  0.005105 -0.046494  0.009074  0.041495  0.054268   \n",
       "6  -0.002911  0.060791 -0.009176 -0.006133  0.040492  0.036594  0.002054   \n",
       "7  -0.080526  0.059888 -0.048847 -0.040176 -0.063342  0.041848  0.119045   \n",
       "8  -0.034388  0.072501  0.014440 -0.036695  0.014019  0.063070  0.034683   \n",
       "9  -0.005964  0.025044 -0.003182 -0.025243 -0.039823 -0.012772  0.044713   \n",
       "10 -0.039008 -0.010609 -0.007383 -0.050190 -0.002518 -0.041641  0.026969   \n",
       "11 -0.095983 -0.063012 -0.116906 -0.059075 -0.051323 -0.003439  0.018687   \n",
       "12 -0.011600  0.056510  0.016624 -0.094690 -0.009865  0.072347  0.044124   \n",
       "\n",
       "         7         8         9    ...       374       375       376       377  \\\n",
       "0   0.025346  0.018508 -0.083508  ... -0.161688 -0.046426  0.006004  0.005281   \n",
       "1  -0.004099 -0.002607 -0.010188  ... -0.061594 -0.020717 -0.009082 -0.029260   \n",
       "2  -0.051981 -0.006265 -0.006111  ... -0.108326 -0.049646 -0.073399 -0.029898   \n",
       "3   0.001101 -0.045124 -0.040748  ... -0.117682  0.031924  0.000854  0.020200   \n",
       "4  -0.052618 -0.054702 -0.116230  ... -0.118145  0.013343 -0.055188 -0.032723   \n",
       "5  -0.024185 -0.013483 -0.075966  ... -0.100110  0.010750 -0.031469 -0.004822   \n",
       "6  -0.031345  0.031806 -0.023495  ... -0.028763 -0.060458 -0.018598 -0.040189   \n",
       "7   0.010652 -0.030095 -0.004561  ... -0.144566  0.020404  0.023088  0.005077   \n",
       "8  -0.014531 -0.059862 -0.045383  ... -0.114763 -0.035894 -0.019877 -0.033375   \n",
       "9   0.014535 -0.038213 -0.041149  ... -0.057621  0.021594  0.048983 -0.044541   \n",
       "10 -0.014801 -0.014127 -0.061637  ... -0.098168 -0.031694 -0.052128  0.014774   \n",
       "11  0.006544 -0.049057 -0.031649  ... -0.041085 -0.008593 -0.021544 -0.021112   \n",
       "12 -0.041175 -0.042124 -0.102631  ... -0.135239  0.013612 -0.049410 -0.006925   \n",
       "\n",
       "         378       379       380       381       382       383  \n",
       "0  -0.003342  0.027754  0.020411  0.005778  0.034098 -0.006889  \n",
       "1  -0.066253  0.065257  0.013229 -0.023103 -0.002785  0.010474  \n",
       "2  -0.102734  0.062121  0.034606  0.016877 -0.023861  0.005264  \n",
       "3  -0.020666 -0.005167  0.038370  0.003617  0.033993 -0.010255  \n",
       "4   0.008436  0.019169  0.048212 -0.040412  0.083346  0.026855  \n",
       "5   0.039657  0.026384  0.045514  0.059089 -0.017509  0.007166  \n",
       "6  -0.031486 -0.018299  0.002286 -0.073420  0.016235 -0.000244  \n",
       "7  -0.055645 -0.007675  0.050791 -0.005989  0.134562  0.034817  \n",
       "8  -0.030168  0.039412  0.044993  0.000578 -0.025124  0.034191  \n",
       "9  -0.030137  0.006779  0.054854  0.029937  0.070214  0.041565  \n",
       "10 -0.091150  0.001324  0.053866 -0.083904  0.037684  0.002314  \n",
       "11 -0.019502  0.050040 -0.029175  0.005498  0.152892  0.024720  \n",
       "12  0.085355 -0.007875  0.030402 -0.029012  0.001888 -0.000133  \n",
       "\n",
       "[13 rows x 384 columns]"
      ]
     },
     "execution_count": 9,
     "metadata": {},
     "output_type": "execute_result"
    }
   ],
   "source": [
    "embeddings"
   ]
  },
  {
   "cell_type": "code",
   "execution_count": 52,
   "metadata": {},
   "outputs": [],
   "source": [
    "embeddings.to_csv(\"embeddings.csv\", index=False)"
   ]
  },
  {
   "cell_type": "code",
   "execution_count": 10,
   "metadata": {},
   "outputs": [
    {
     "name": "stderr",
     "output_type": "stream",
     "text": [
      "d:\\Learning\\Python\\Generative AI\\.venv\\Lib\\site-packages\\tqdm\\auto.py:21: TqdmWarning: IProgress not found. Please update jupyter and ipywidgets. See https://ipywidgets.readthedocs.io/en/stable/user_install.html\n",
      "  from .autonotebook import tqdm as notebook_tqdm\n"
     ]
    }
   ],
   "source": [
    "from datasets import load_dataset"
   ]
  },
  {
   "cell_type": "code",
   "execution_count": 11,
   "metadata": {},
   "outputs": [],
   "source": [
    "faqs_embeddings = load_dataset(\"becodev/dataset\")"
   ]
  },
  {
   "cell_type": "code",
   "execution_count": 12,
   "metadata": {},
   "outputs": [
    {
     "data": {
      "text/plain": [
       "(13, 384)"
      ]
     },
     "execution_count": 12,
     "metadata": {},
     "output_type": "execute_result"
    }
   ],
   "source": [
    "embeddings.shape"
   ]
  },
  {
   "cell_type": "code",
   "execution_count": 56,
   "metadata": {},
   "outputs": [
    {
     "data": {
      "text/plain": [
       "DatasetDict({\n",
       "    train: Dataset({\n",
       "        features: ['0', '1', '2', '3', '4', '5', '6', '7', '8', '9', '10', '11', '12', '13', '14', '15', '16', '17', '18', '19', '20', '21', '22', '23', '24', '25', '26', '27', '28', '29', '30', '31', '32', '33', '34', '35', '36', '37', '38', '39', '40', '41', '42', '43', '44', '45', '46', '47', '48', '49', '50', '51', '52', '53', '54', '55', '56', '57', '58', '59', '60', '61', '62', '63', '64', '65', '66', '67', '68', '69', '70', '71', '72', '73', '74', '75', '76', '77', '78', '79', '80', '81', '82', '83', '84', '85', '86', '87', '88', '89', '90', '91', '92', '93', '94', '95', '96', '97', '98', '99', '100', '101', '102', '103', '104', '105', '106', '107', '108', '109', '110', '111', '112', '113', '114', '115', '116', '117', '118', '119', '120', '121', '122', '123', '124', '125', '126', '127', '128', '129', '130', '131', '132', '133', '134', '135', '136', '137', '138', '139', '140', '141', '142', '143', '144', '145', '146', '147', '148', '149', '150', '151', '152', '153', '154', '155', '156', '157', '158', '159', '160', '161', '162', '163', '164', '165', '166', '167', '168', '169', '170', '171', '172', '173', '174', '175', '176', '177', '178', '179', '180', '181', '182', '183', '184', '185', '186', '187', '188', '189', '190', '191', '192', '193', '194', '195', '196', '197', '198', '199', '200', '201', '202', '203', '204', '205', '206', '207', '208', '209', '210', '211', '212', '213', '214', '215', '216', '217', '218', '219', '220', '221', '222', '223', '224', '225', '226', '227', '228', '229', '230', '231', '232', '233', '234', '235', '236', '237', '238', '239', '240', '241', '242', '243', '244', '245', '246', '247', '248', '249', '250', '251', '252', '253', '254', '255', '256', '257', '258', '259', '260', '261', '262', '263', '264', '265', '266', '267', '268', '269', '270', '271', '272', '273', '274', '275', '276', '277', '278', '279', '280', '281', '282', '283', '284', '285', '286', '287', '288', '289', '290', '291', '292', '293', '294', '295', '296', '297', '298', '299', '300', '301', '302', '303', '304', '305', '306', '307', '308', '309', '310', '311', '312', '313', '314', '315', '316', '317', '318', '319', '320', '321', '322', '323', '324', '325', '326', '327', '328', '329', '330', '331', '332', '333', '334', '335', '336', '337', '338', '339', '340', '341', '342', '343', '344', '345', '346', '347', '348', '349', '350', '351', '352', '353', '354', '355', '356', '357', '358', '359', '360', '361', '362', '363', '364', '365', '366', '367', '368', '369', '370', '371', '372', '373', '374', '375', '376', '377', '378', '379', '380', '381', '382', '383'],\n",
       "        num_rows: 13\n",
       "    })\n",
       "})"
      ]
     },
     "execution_count": 56,
     "metadata": {},
     "output_type": "execute_result"
    }
   ],
   "source": [
    "faqs_embeddings"
   ]
  },
  {
   "cell_type": "code",
   "execution_count": 57,
   "metadata": {},
   "outputs": [
    {
     "name": "stdout",
     "output_type": "stream",
     "text": [
      "Dataset({\n",
      "    features: ['0', '1', '2', '3', '4', '5', '6', '7', '8', '9', '10', '11', '12', '13', '14', '15', '16', '17', '18', '19', '20', '21', '22', '23', '24', '25', '26', '27', '28', '29', '30', '31', '32', '33', '34', '35', '36', '37', '38', '39', '40', '41', '42', '43', '44', '45', '46', '47', '48', '49', '50', '51', '52', '53', '54', '55', '56', '57', '58', '59', '60', '61', '62', '63', '64', '65', '66', '67', '68', '69', '70', '71', '72', '73', '74', '75', '76', '77', '78', '79', '80', '81', '82', '83', '84', '85', '86', '87', '88', '89', '90', '91', '92', '93', '94', '95', '96', '97', '98', '99', '100', '101', '102', '103', '104', '105', '106', '107', '108', '109', '110', '111', '112', '113', '114', '115', '116', '117', '118', '119', '120', '121', '122', '123', '124', '125', '126', '127', '128', '129', '130', '131', '132', '133', '134', '135', '136', '137', '138', '139', '140', '141', '142', '143', '144', '145', '146', '147', '148', '149', '150', '151', '152', '153', '154', '155', '156', '157', '158', '159', '160', '161', '162', '163', '164', '165', '166', '167', '168', '169', '170', '171', '172', '173', '174', '175', '176', '177', '178', '179', '180', '181', '182', '183', '184', '185', '186', '187', '188', '189', '190', '191', '192', '193', '194', '195', '196', '197', '198', '199', '200', '201', '202', '203', '204', '205', '206', '207', '208', '209', '210', '211', '212', '213', '214', '215', '216', '217', '218', '219', '220', '221', '222', '223', '224', '225', '226', '227', '228', '229', '230', '231', '232', '233', '234', '235', '236', '237', '238', '239', '240', '241', '242', '243', '244', '245', '246', '247', '248', '249', '250', '251', '252', '253', '254', '255', '256', '257', '258', '259', '260', '261', '262', '263', '264', '265', '266', '267', '268', '269', '270', '271', '272', '273', '274', '275', '276', '277', '278', '279', '280', '281', '282', '283', '284', '285', '286', '287', '288', '289', '290', '291', '292', '293', '294', '295', '296', '297', '298', '299', '300', '301', '302', '303', '304', '305', '306', '307', '308', '309', '310', '311', '312', '313', '314', '315', '316', '317', '318', '319', '320', '321', '322', '323', '324', '325', '326', '327', '328', '329', '330', '331', '332', '333', '334', '335', '336', '337', '338', '339', '340', '341', '342', '343', '344', '345', '346', '347', '348', '349', '350', '351', '352', '353', '354', '355', '356', '357', '358', '359', '360', '361', '362', '363', '364', '365', '366', '367', '368', '369', '370', '371', '372', '373', '374', '375', '376', '377', '378', '379', '380', '381', '382', '383'],\n",
      "    num_rows: 13\n",
      "})\n"
     ]
    }
   ],
   "source": [
    "ds = faqs_embeddings[\"train\"]\n",
    "print(ds)"
   ]
  },
  {
   "cell_type": "code",
   "execution_count": 58,
   "metadata": {},
   "outputs": [],
   "source": [
    "dataset_embedding = ds.to_pandas().to_numpy()"
   ]
  },
  {
   "cell_type": "code",
   "execution_count": 13,
   "metadata": {},
   "outputs": [],
   "source": [
    "question = [\"How can Medicare help me?\"]\n",
    "output = query(question)"
   ]
  },
  {
   "cell_type": "code",
   "execution_count": 17,
   "metadata": {},
   "outputs": [],
   "source": [
    "import numpy as np\n",
    "a = np.array(output)"
   ]
  },
  {
   "cell_type": "code",
   "execution_count": 18,
   "metadata": {},
   "outputs": [
    {
     "data": {
      "text/plain": [
       "(1, 384)"
      ]
     },
     "execution_count": 18,
     "metadata": {},
     "output_type": "execute_result"
    }
   ],
   "source": [
    "a.shape"
   ]
  },
  {
   "cell_type": "markdown",
   "metadata": {},
   "source": [
    "## calling the embedding method using Langchain"
   ]
  },
  {
   "cell_type": "code",
   "execution_count": 62,
   "metadata": {},
   "outputs": [],
   "source": [
    "from langchain_huggingface.embeddings import HuggingFaceEmbeddings"
   ]
  },
  {
   "cell_type": "code",
   "execution_count": 63,
   "metadata": {},
   "outputs": [],
   "source": [
    "from langchain_community.embeddings import HuggingFaceInferenceAPIEmbeddings"
   ]
  },
  {
   "cell_type": "code",
   "execution_count": 64,
   "metadata": {},
   "outputs": [],
   "source": [
    "embeddings = HuggingFaceInferenceAPIEmbeddings(\n",
    "    api_key=hf_token,\n",
    "    model_name=\"sentence-transformers/all-MiniLM-l6-v2\"\n",
    ")"
   ]
  },
  {
   "cell_type": "code",
   "execution_count": 65,
   "metadata": {},
   "outputs": [
    {
     "data": {
      "text/plain": [
       "HuggingFaceInferenceAPIEmbeddings(api_key=SecretStr('**********'), model_name='sentence-transformers/all-MiniLM-l6-v2', api_url=None, additional_headers={})"
      ]
     },
     "execution_count": 65,
     "metadata": {},
     "output_type": "execute_result"
    }
   ],
   "source": [
    "embeddings"
   ]
  },
  {
   "cell_type": "code",
   "execution_count": 66,
   "metadata": {},
   "outputs": [],
   "source": [
    "text = \"How can Medicare help me?\""
   ]
  },
  {
   "cell_type": "code",
   "execution_count": 67,
   "metadata": {},
   "outputs": [
    {
     "data": {
      "text/plain": [
       "[-0.03047061339020729, 0.07238277792930603, -0.020370731130242348]"
      ]
     },
     "execution_count": 67,
     "metadata": {},
     "output_type": "execute_result"
    }
   ],
   "source": [
    "query_result = embeddings.embed_query(text)  # langchain provides a method to embed a query\n",
    "query_result[:3]"
   ]
  },
  {
   "cell_type": "code",
   "execution_count": 68,
   "metadata": {},
   "outputs": [
    {
     "data": {
      "text/plain": [
       "384"
      ]
     },
     "execution_count": 68,
     "metadata": {},
     "output_type": "execute_result"
    }
   ],
   "source": [
    "len(query_result)"
   ]
  },
  {
   "cell_type": "code",
   "execution_count": 69,
   "metadata": {},
   "outputs": [],
   "source": [
    "from langchain_huggingface.embeddings import HuggingFaceEndpointEmbeddings"
   ]
  },
  {
   "cell_type": "code",
   "execution_count": 70,
   "metadata": {},
   "outputs": [],
   "source": [
    "embeddings = HuggingFaceEndpointEmbeddings()"
   ]
  },
  {
   "cell_type": "code",
   "execution_count": 71,
   "metadata": {},
   "outputs": [],
   "source": [
    "embeddings = HuggingFaceEndpointEmbeddings()"
   ]
  },
  {
   "cell_type": "code",
   "execution_count": 72,
   "metadata": {},
   "outputs": [],
   "source": [
    "text = \"This is a test document.\""
   ]
  },
  {
   "cell_type": "code",
   "execution_count": 73,
   "metadata": {},
   "outputs": [],
   "source": [
    "query_result = embeddings.embed_query(text)"
   ]
  },
  {
   "cell_type": "code",
   "execution_count": 74,
   "metadata": {},
   "outputs": [
    {
     "data": {
      "text/plain": [
       "[-0.048951830714941025, -0.03986202925443649, -0.021562786772847176]"
      ]
     },
     "execution_count": 74,
     "metadata": {},
     "output_type": "execute_result"
    }
   ],
   "source": [
    "query_result[:3]"
   ]
  },
  {
   "cell_type": "code",
   "execution_count": null,
   "metadata": {},
   "outputs": [],
   "source": []
  },
  {
   "cell_type": "code",
   "execution_count": null,
   "metadata": {},
   "outputs": [],
   "source": []
  },
  {
   "cell_type": "code",
   "execution_count": 75,
   "metadata": {},
   "outputs": [
    {
     "name": "stdout",
     "output_type": "stream",
     "text": [
      "Is trained: True\n",
      "Number of vectors in the index: 1000\n",
      "Indices of nearest neighbors: [[678 358 824 126   2]]\n",
      "Distances to nearest neighbors: [[15.933323 16.083263 16.73449  16.895683 16.990341]]\n"
     ]
    }
   ],
   "source": [
    "import faiss\n",
    "import numpy as np\n",
    "\n",
    "# Generate some random vectors for demonstration\n",
    "d = 128  # Dimension of vectors\n",
    "nb = 1000  # Number of vectors\n",
    "\n",
    "# Create a NumPy array of shape (nb, d)\n",
    "vectors = np.random.random((nb, d)).astype('float32')\n",
    "\n",
    "# Build an index\n",
    "index = faiss.IndexFlatL2(d)  # Using L2 (Euclidean) distance\n",
    "print(\"Is trained:\", index.is_trained)\n",
    "\n",
    "# Add vectors to the index\n",
    "index.add(vectors)\n",
    "print(\"Number of vectors in the index:\", index.ntotal)\n",
    "\n",
    "# Generate a query vector\n",
    "query_vector = np.random.random((1, d)).astype('float32')\n",
    "\n",
    "# Perform a similarity search\n",
    "k = 5  # Number of nearest neighbors to search\n",
    "distances, indices = index.search(query_vector, k)\n",
    "\n",
    "print(\"Indices of nearest neighbors:\", indices)\n",
    "print(\"Distances to nearest neighbors:\", distances)\n"
   ]
  },
  {
   "cell_type": "code",
   "execution_count": 101,
   "metadata": {},
   "outputs": [
    {
     "data": {
      "text/plain": [
       "numpy.ndarray"
      ]
     },
     "execution_count": 101,
     "metadata": {},
     "output_type": "execute_result"
    }
   ],
   "source": []
  },
  {
   "cell_type": "code",
   "execution_count": 77,
   "metadata": {},
   "outputs": [],
   "source": [
    "dataset_embedding = ds.to_pandas().to_numpy()"
   ]
  },
  {
   "cell_type": "code",
   "execution_count": 82,
   "metadata": {},
   "outputs": [],
   "source": [
    "dim = dataset_embedding.shape[1]"
   ]
  },
  {
   "cell_type": "code",
   "execution_count": 83,
   "metadata": {},
   "outputs": [],
   "source": [
    "index = faiss.IndexFlatL2(dim)"
   ]
  },
  {
   "cell_type": "code",
   "execution_count": 84,
   "metadata": {},
   "outputs": [
    {
     "data": {
      "text/plain": [
       "<faiss.swigfaiss_avx2.IndexFlatL2; proxy of <Swig Object of type 'faiss::IndexFlatL2 *' at 0x000001937F32BD80> >"
      ]
     },
     "execution_count": 84,
     "metadata": {},
     "output_type": "execute_result"
    }
   ],
   "source": [
    "index"
   ]
  },
  {
   "cell_type": "code",
   "execution_count": 85,
   "metadata": {},
   "outputs": [],
   "source": [
    "index.add(dataset_embedding)"
   ]
  },
  {
   "cell_type": "code",
   "execution_count": 86,
   "metadata": {},
   "outputs": [],
   "source": [
    "import faiss\n",
    "from faiss import write_index, read_index"
   ]
  },
  {
   "cell_type": "code",
   "execution_count": 87,
   "metadata": {},
   "outputs": [],
   "source": [
    "# save index to disk\n",
    "write_index(index, f\"vectorData.bin\")"
   ]
  },
  {
   "cell_type": "code",
   "execution_count": 88,
   "metadata": {},
   "outputs": [],
   "source": [
    "index = None"
   ]
  },
  {
   "cell_type": "code",
   "execution_count": 89,
   "metadata": {},
   "outputs": [],
   "source": [
    "index = read_index(f\"vectorData.bin\")"
   ]
  },
  {
   "cell_type": "code",
   "execution_count": 99,
   "metadata": {},
   "outputs": [
    {
     "data": {
      "text/plain": [
       "<faiss.swigfaiss_avx2.IndexFlatL2; proxy of <Swig Object of type 'faiss::IndexFlatL2 *' at 0x000001933CA3A550> >"
      ]
     },
     "execution_count": 99,
     "metadata": {},
     "output_type": "execute_result"
    }
   ],
   "source": [
    "index"
   ]
  },
  {
   "cell_type": "code",
   "execution_count": 104,
   "metadata": {},
   "outputs": [
    {
     "name": "stdout",
     "output_type": "stream",
     "text": [
      "<class 'numpy.ndarray'>\n",
      "<class 'numpy.ndarray'>\n",
      "(1, 128)\n",
      "(384,)\n"
     ]
    }
   ],
   "source": [
    "op_array = np.array(op)\n",
    "print(type(query_vector))\n",
    "print(type(op_array))\n",
    "\n",
    "print(query_vector.shape)\n",
    "print(op_array.shape)\n",
    "\n"
   ]
  },
  {
   "cell_type": "code",
   "execution_count": 116,
   "metadata": {},
   "outputs": [],
   "source": [
    "op_array2 = op_array.reshape(1,384)"
   ]
  },
  {
   "cell_type": "code",
   "execution_count": 117,
   "metadata": {},
   "outputs": [
    {
     "data": {
      "text/plain": [
       "array([[-5.85659072e-02,  6.13192916e-02,  2.95518320e-02,\n",
       "         4.92481850e-02, -3.34875472e-02,  4.18633372e-02,\n",
       "        -4.24482822e-02, -3.57869454e-02, -1.22440839e-02,\n",
       "         5.99360950e-02, -2.71221879e-03,  1.51078850e-01,\n",
       "        -2.73618940e-02, -6.76351339e-02, -7.56695345e-02,\n",
       "         2.76052058e-02, -5.32712825e-02, -8.02728254e-03,\n",
       "         3.82980369e-02, -5.41617796e-02, -6.79946458e-03,\n",
       "         2.10220437e-03,  4.77801673e-02, -1.58569496e-02,\n",
       "         3.77487838e-02,  2.37836670e-02, -9.34605545e-04,\n",
       "        -9.22329631e-03,  9.13679507e-03, -4.46795449e-02,\n",
       "        -1.70572568e-02,  5.31278327e-02,  7.08009824e-02,\n",
       "         9.88684129e-03, -5.32353856e-02,  4.39294577e-02,\n",
       "         9.85363424e-02,  9.36871320e-02,  4.59840223e-02,\n",
       "        -1.33167999e-02, -4.35311906e-02, -1.23128565e-02,\n",
       "         7.66329607e-03,  3.94187830e-02,  2.43164394e-02,\n",
       "        -8.92593339e-02, -2.31881272e-02,  5.09266183e-03,\n",
       "        -2.15042550e-02,  4.65445966e-02, -3.20655741e-02,\n",
       "        -1.77213037e-03, -7.46538565e-02, -6.77461848e-02,\n",
       "         3.09736133e-02,  8.46970528e-02, -4.16277610e-02,\n",
       "         8.63718763e-02, -3.19777355e-02, -5.35488203e-02,\n",
       "        -3.05922534e-02,  8.40403792e-03, -6.71804920e-02,\n",
       "         4.54568006e-02,  8.16824213e-02, -2.12880336e-02,\n",
       "        -5.06267622e-02,  1.10193202e-02, -2.82061175e-02,\n",
       "         5.65359816e-02, -7.13916263e-03, -1.56886484e-02,\n",
       "         8.40410870e-03, -4.13605981e-02,  7.39473999e-02,\n",
       "        -9.83105302e-02, -5.43295927e-02, -1.98970102e-02,\n",
       "        -2.81192940e-02, -4.87915538e-02, -1.49592021e-02,\n",
       "         3.03967074e-02, -2.18022242e-02,  5.23953438e-02,\n",
       "        -4.00497280e-02,  5.73123246e-02,  4.78106700e-02,\n",
       "        -4.93650399e-02,  2.57409625e-02, -5.16802445e-02,\n",
       "         9.61440876e-02, -1.37114123e-01,  7.56706111e-03,\n",
       "         3.26339481e-03, -2.74570403e-03,  1.45032927e-02,\n",
       "        -8.07097033e-02, -2.20962726e-02,  6.85244501e-02,\n",
       "         4.69195731e-02, -3.20573561e-02, -3.58973001e-03,\n",
       "         6.33688122e-02,  2.34395787e-02,  2.91645359e-02,\n",
       "        -1.22774020e-01,  3.15502100e-02, -6.06569648e-02,\n",
       "        -1.54700363e-02,  3.74146365e-02, -1.57902166e-02,\n",
       "        -4.76196688e-03, -3.43474485e-02,  6.11634701e-02,\n",
       "         6.90248236e-02,  1.40357306e-02,  8.86720493e-02,\n",
       "        -6.99415896e-03,  4.67362031e-02,  3.13715003e-02,\n",
       "         4.01202813e-02,  3.19973268e-02, -3.66283394e-02,\n",
       "        -2.43044551e-02, -1.49955228e-01, -5.10247499e-02,\n",
       "        -5.46648866e-03, -3.03886522e-33,  5.07597737e-02,\n",
       "        -2.29808944e-03, -1.73587929e-02,  1.75067559e-01,\n",
       "         2.92855967e-02, -1.50081469e-02,  1.48018142e-02,\n",
       "        -3.22514474e-02,  4.66797873e-03,  5.55254985e-04,\n",
       "         6.23922348e-02,  8.62738490e-02,  1.53012648e-02,\n",
       "         8.35320204e-02,  3.25944275e-02,  5.08471066e-03,\n",
       "        -7.17993975e-02, -1.80111062e-02,  5.28643206e-02,\n",
       "        -1.88578479e-02,  2.61461362e-02,  4.45011184e-02,\n",
       "         3.44102569e-02, -6.17533028e-02, -3.07081603e-02,\n",
       "         1.03087788e-02,  1.40204038e-02, -2.01504976e-02,\n",
       "         3.16723995e-03, -2.18578358e-03, -1.48889488e-02,\n",
       "         3.44893597e-02, -7.77980909e-02, -5.90731651e-02,\n",
       "         5.72052039e-02,  4.98485491e-02, -2.89015584e-02,\n",
       "        -9.54159945e-02,  8.49059075e-02,  3.23559679e-02,\n",
       "        -3.56892981e-02,  8.38606581e-02,  4.93955314e-02,\n",
       "        -8.67805779e-02,  1.96387712e-02,  3.97632532e-02,\n",
       "        -4.02491391e-02,  1.33678950e-02,  4.47515734e-02,\n",
       "         5.77311963e-02, -8.85026902e-02, -4.10579555e-02,\n",
       "         1.00731878e-02, -6.14152886e-02,  3.66824418e-02,\n",
       "         2.84206681e-02, -1.16015216e-02,  4.33843257e-03,\n",
       "        -5.09671420e-02, -1.45109277e-02,  4.24049273e-02,\n",
       "         9.21198279e-02,  5.24754338e-02,  2.19077989e-02,\n",
       "         2.57144552e-02,  4.79780249e-02, -7.66270012e-02,\n",
       "        -3.28238793e-02,  1.59019977e-02, -3.56812105e-02,\n",
       "        -1.13967843e-01,  7.47513305e-03, -1.15181962e-02,\n",
       "        -2.60516852e-02, -5.13162315e-02,  5.18245324e-02,\n",
       "        -4.25408334e-02, -1.08239524e-01, -5.00006899e-02,\n",
       "        -5.12555894e-03, -1.71148982e-02, -4.15898524e-02,\n",
       "        -1.63390171e-02,  2.96636615e-02, -9.47378129e-02,\n",
       "         1.44894440e-02,  4.59027551e-02, -1.47349006e-02,\n",
       "         1.37459738e-02,  2.80674268e-02,  3.87470312e-02,\n",
       "        -3.36048156e-02, -1.02349473e-02, -7.21982121e-02,\n",
       "        -3.38470303e-02,  4.81379257e-35, -9.84736253e-03,\n",
       "        -5.48115745e-02, -2.56616157e-02,  3.73184569e-02,\n",
       "        -3.83636984e-03, -1.59768593e-02, -8.38798061e-02,\n",
       "        -6.46974295e-02,  5.75128980e-02, -7.47071905e-03,\n",
       "        -3.70714478e-02, -6.57593980e-02,  3.96683291e-02,\n",
       "         1.66588854e-02, -3.02176084e-03, -7.70855462e-03,\n",
       "        -1.57678931e-03, -6.19461527e-03, -5.94400652e-02,\n",
       "         4.94094342e-02,  6.40872261e-03,  3.52376215e-02,\n",
       "        -3.90892029e-02, -9.14706364e-02,  8.84192809e-02,\n",
       "         1.34059656e-02,  4.58527915e-02, -2.29749288e-02,\n",
       "        -1.28939748e-01, -4.38067270e-03,  4.94815856e-02,\n",
       "         5.58437705e-02, -1.40361944e-02, -2.72391569e-02,\n",
       "        -4.04404365e-02,  3.31947803e-02,  2.26525981e-02,\n",
       "         2.73048636e-02, -9.33104486e-04, -8.23987573e-02,\n",
       "         1.06745534e-01, -4.56807502e-02,  8.36603194e-02,\n",
       "        -2.84671709e-02,  5.33067174e-02, -5.80687216e-03,\n",
       "        -4.32505347e-02,  4.25348431e-02, -4.21224385e-02,\n",
       "         2.33887788e-02, -1.35629522e-02, -6.53469488e-02,\n",
       "         8.41798820e-03, -1.96040934e-03,  4.55450341e-02,\n",
       "        -1.04220621e-02,  8.04392770e-02, -7.80760348e-02,\n",
       "         1.27073238e-02,  9.71117392e-02, -1.72796808e-02,\n",
       "         1.97695568e-04, -3.42149921e-02,  3.36484797e-02,\n",
       "        -6.27942681e-02, -8.39510933e-02, -6.58918247e-02,\n",
       "         1.42727811e-02, -3.13347094e-02, -2.19383799e-02,\n",
       "        -3.12706232e-02, -2.52880231e-02,  6.17608503e-02,\n",
       "        -1.71408094e-02, -6.47460446e-02,  8.00393745e-02,\n",
       "         7.98075367e-03, -2.84768417e-02, -5.98996952e-02,\n",
       "        -7.98844080e-03, -7.86624029e-02, -5.56737557e-02,\n",
       "        -8.18070918e-02,  5.02196252e-02,  3.59588000e-03,\n",
       "         3.19372490e-02, -2.76873242e-02, -7.41371140e-02,\n",
       "         4.68509831e-02, -2.32985653e-02,  4.13630903e-03,\n",
       "        -2.28137877e-02,  5.77290729e-02, -1.18183624e-02,\n",
       "         1.46257260e-03, -2.23322960e-08, -5.75789735e-02,\n",
       "        -6.45678025e-03, -6.10559769e-02, -1.43920854e-02,\n",
       "        -6.58098981e-02,  6.46566227e-02,  6.13636747e-02,\n",
       "        -2.63434555e-02, -3.29355448e-02,  1.04888923e-01,\n",
       "        -5.19763753e-02,  4.82386984e-02,  4.50238474e-02,\n",
       "        -1.10132368e-02,  4.77332473e-02,  1.38952713e-02,\n",
       "         1.26218706e-01, -7.45517910e-02, -6.03884049e-02,\n",
       "         1.11117102e-02,  1.04694173e-01, -2.50029359e-02,\n",
       "         1.31145241e-02, -7.59788677e-02, -1.77746676e-02,\n",
       "         9.97497961e-02,  9.50331762e-02,  1.67164704e-04,\n",
       "        -3.64706479e-02,  7.96282366e-02, -4.42783833e-02,\n",
       "         8.82020295e-02, -1.77865941e-02, -6.43375441e-02,\n",
       "        -1.18888784e-02,  2.55645625e-02,  8.28383863e-02,\n",
       "         5.69905993e-03,  7.40260957e-03, -3.01735830e-02,\n",
       "         1.53433671e-02,  4.95032184e-02, -5.12105860e-02,\n",
       "         5.22029735e-02,  8.61353278e-02, -8.13543564e-04,\n",
       "        -3.59356813e-02,  9.35269594e-02,  1.10375704e-02,\n",
       "         3.77302207e-02,  6.00118302e-02,  8.54759812e-02,\n",
       "         5.57993501e-02, -4.29021306e-02, -7.35618314e-03,\n",
       "        -3.09041818e-03,  1.13394223e-02,  7.55462516e-03,\n",
       "        -1.06383659e-01, -7.66504258e-02,  9.74937826e-02,\n",
       "        -1.73226756e-03,  2.88706794e-02,  1.38432374e-02]])"
      ]
     },
     "execution_count": 117,
     "metadata": {},
     "output_type": "execute_result"
    }
   ],
   "source": [
    "op_array2"
   ]
  },
  {
   "cell_type": "code",
   "execution_count": 115,
   "metadata": {},
   "outputs": [
    {
     "data": {
      "text/plain": [
       "list"
      ]
     },
     "execution_count": 115,
     "metadata": {},
     "output_type": "execute_result"
    }
   ],
   "source": [
    "type(op_array2)"
   ]
  },
  {
   "cell_type": "code",
   "execution_count": 119,
   "metadata": {},
   "outputs": [],
   "source": [
    "D,I = index.search(op_array2, k=5)"
   ]
  },
  {
   "cell_type": "code",
   "execution_count": 121,
   "metadata": {},
   "outputs": [
    {
     "data": {
      "text/plain": [
       "array([[ 9,  7, 11,  6,  1]], dtype=int64)"
      ]
     },
     "execution_count": 121,
     "metadata": {},
     "output_type": "execute_result"
    }
   ],
   "source": [
    "I"
   ]
  },
  {
   "cell_type": "code",
   "execution_count": null,
   "metadata": {},
   "outputs": [],
   "source": []
  }
 ],
 "metadata": {
  "kernelspec": {
   "display_name": ".venv",
   "language": "python",
   "name": "python3"
  },
  "language_info": {
   "codemirror_mode": {
    "name": "ipython",
    "version": 3
   },
   "file_extension": ".py",
   "mimetype": "text/x-python",
   "name": "python",
   "nbconvert_exporter": "python",
   "pygments_lexer": "ipython3",
   "version": "3.12.3"
  }
 },
 "nbformat": 4,
 "nbformat_minor": 2
}
