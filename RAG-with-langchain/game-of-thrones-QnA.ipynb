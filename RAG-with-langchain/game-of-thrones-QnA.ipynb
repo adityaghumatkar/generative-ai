{
 "cells": [
  {
   "cell_type": "code",
   "execution_count": 1,
   "metadata": {},
   "outputs": [],
   "source": [
    "import os\n",
    "from dotenv import load_dotenv\n"
   ]
  },
  {
   "cell_type": "code",
   "execution_count": 2,
   "metadata": {},
   "outputs": [
    {
     "data": {
      "text/plain": [
       "True"
      ]
     },
     "execution_count": 2,
     "metadata": {},
     "output_type": "execute_result"
    }
   ],
   "source": [
    "load_dotenv(dotenv_path='../.env')"
   ]
  },
  {
   "cell_type": "markdown",
   "metadata": {},
   "source": [
    "### Loading text file"
   ]
  },
  {
   "cell_type": "code",
   "execution_count": 3,
   "metadata": {},
   "outputs": [],
   "source": [
    "from langchain_community.document_loaders import TextLoader\n",
    "filename = \"data/game-of-thrones.txt\"\n",
    "\n",
    "loader = TextLoader(filename, encoding=\"utf-8\")\n",
    "docs = loader.load() # returns a list of Document objects representing the pages of the document"
   ]
  },
  {
   "cell_type": "code",
   "execution_count": 4,
   "metadata": {},
   "outputs": [
    {
     "data": {
      "text/plain": [
       "Document(metadata={'source': 'data/a-game-of-thrones.pdf', 'page': 0}, page_content='')"
      ]
     },
     "metadata": {},
     "output_type": "display_data"
    }
   ],
   "source": [
    "from langchain_community.document_loaders import PyPDFLoader\n",
    "filename = \"data/a-game-of-thrones.pdf\"\n",
    "loader = PyPDFLoader(filename)\n",
    "docs = loader.load() # returns a list of Document objects representing the pages of the document\n",
    "display(docs[0]) # prints the text of the first page"
   ]
  },
  {
   "cell_type": "markdown",
   "metadata": {},
   "source": [
    "### Splitting into chunks"
   ]
  },
  {
   "cell_type": "code",
   "execution_count": null,
   "metadata": {},
   "outputs": [],
   "source": [
    "from langchain_text_splitters.character import CharacterTextSplitter\n",
    "\n",
    "chunk_size = 500\n",
    "chunk_overlap = 30\n",
    "text_splitter = CharacterTextSplitter(separator=\"\\n\", chunk_size=chunk_size, chunk_overlap=chunk_overlap)\n",
    "\n",
    "splits = text_splitter.split_documents(docs)\n",
    "# display(splits)"
   ]
  },
  {
   "cell_type": "markdown",
   "metadata": {},
   "source": [
    "### Embedding"
   ]
  },
  {
   "cell_type": "code",
   "execution_count": 6,
   "metadata": {},
   "outputs": [],
   "source": [
    "import requests\n",
    "from langchain_community.embeddings import HuggingFaceInferenceAPIEmbeddings\n",
    "import numpy as np\n",
    "# model_id = \"sentence-transformers/all-MiniLM-L6-v2\"\n",
    "hf_token = os.environ[\"API_TOKEN\"]\n",
    "\n",
    "# api_url = f\"https://api-inference.huggingface.co/pipeline/feature-extraction/{model_id}\"\n",
    "# headers = {\"Authorization\": f\"Bearer {hf_token}\"}  # API token\n",
    "\n",
    "# def get_embedding_vectors(splits):\n",
    "#     response = requests.post(api_url, headers=headers, json={\"inputs\": splits, \"options\":{\"wait_for_model\":True}})\n",
    "#     return response.json()\n",
    "# get_embedding_vectors(splits)\n",
    "\n",
    "embeddings = HuggingFaceInferenceAPIEmbeddings(\n",
    "    api_key=hf_token,\n",
    "    model_name=\"sentence-transformers/all-MiniLM-l6-v2\"\n",
    ")\n",
    "\n",
    "# vectors = np.array(embeddings.embed_documents([document.page_content for document in splits]))"
   ]
  },
  {
   "cell_type": "markdown",
   "metadata": {},
   "source": [
    "### Cosine Similarity"
   ]
  },
  {
   "cell_type": "code",
   "execution_count": 7,
   "metadata": {},
   "outputs": [
    {
     "data": {
      "text/plain": [
       "'Similarity between \"I love coding with Langchain\" and \"LangChain is great for coding\": 0.9273254494245174'"
      ]
     },
     "metadata": {},
     "output_type": "display_data"
    },
    {
     "data": {
      "text/plain": [
       "'Similarity between \"I love coding with Langchain\" and \"Bananan contains a lot of potassium\": 0.08279235239724936'"
      ]
     },
     "metadata": {},
     "output_type": "display_data"
    },
    {
     "data": {
      "text/plain": [
       "'Similarity between \"LangChain is great for coding\" and \"Bananan contains a lot of potassium\": 0.09143600270105912'"
      ]
     },
     "metadata": {},
     "output_type": "display_data"
    }
   ],
   "source": [
    "#cosine method give the distance between the two vectors and 1-cosine then gives the similarity. Higher the number, more similar the two vectors are.\n",
    "\n",
    "from scipy.spatial.distance import cosine\n",
    "\n",
    "sentence1 = \"I love coding with Langchain\"\n",
    "sentence2 = \"LangChain is great for coding\"\n",
    "sentence3 = \"Bananan contains a lot of potassium\"\n",
    "\n",
    "e1 = embeddings.embed_query(sentence1)\n",
    "e2 = embeddings.embed_query(sentence2)\n",
    "e3 = embeddings.embed_query(sentence3)\n",
    "\n",
    "similarity1_2 = 1 - cosine(e1, e2)\n",
    "similarity1_3 = 1 - cosine(e1, e3)\n",
    "similarity2_3 = 1 - cosine(e2, e3)\n",
    "\n",
    "display(f'Similarity between \"{sentence1}\" and \"{sentence2}\": {similarity1_2}')\n",
    "display(f'Similarity between \"{sentence1}\" and \"{sentence3}\": {similarity1_3}')\n",
    "display(f'Similarity between \"{sentence2}\" and \"{sentence3}\": {similarity2_3}')"
   ]
  },
  {
   "cell_type": "markdown",
   "metadata": {},
   "source": [
    "### Vector stores"
   ]
  },
  {
   "cell_type": "code",
   "execution_count": 8,
   "metadata": {},
   "outputs": [
    {
     "name": "stdout",
     "output_type": "stream",
     "text": [
      "King’s Landing,\n",
      "—JALABAR XHO, an exile prince from the Summer Isles,—MOON BOY, a jester and fool,—LANCEL and TYREK LANNISTER, squires to the king, the queen’s \n",
      "cousins,\n",
      "—SER ARON SANTAGAR, master-at-arms,\n",
      "—his Kingsguard:\n",
      "—SER BARRISTAN SELMY, Lord Commander,—SER JAIME LANNISTER, called the Kingslayer,—SER BOROS BLOUNT,—SER MERYN TRANT,—SER ARYS OAKHEART,\n"
     ]
    }
   ],
   "source": [
    "from langchain_chroma import Chroma\n",
    "\n",
    "# load it into vector database\n",
    "db = Chroma.from_documents(splits, embeddings)\n",
    "\n",
    "# query it\n",
    "query = \"Who are the five kings in the war of five kings?\"\n",
    "docs = db.similarity_search(query, k=5)\n",
    "\n",
    "# print results\n",
    "print(docs[0].page_content)\n"
   ]
  },
  {
   "cell_type": "code",
   "execution_count": 9,
   "metadata": {},
   "outputs": [],
   "source": [
    "import faiss\n",
    "from faiss import write_index, read_index\n",
    "from langchain_community.vectorstores import FAISS\n",
    "\n",
    "db = FAISS.from_documents(splits, embeddings)\n",
    "db.save_local(\"./db\") # save it to disk\n"
   ]
  },
  {
   "cell_type": "markdown",
   "metadata": {},
   "source": [
    "### Retrieval with semantic search"
   ]
  },
  {
   "cell_type": "code",
   "execution_count": 10,
   "metadata": {},
   "outputs": [
    {
     "name": "stdout",
     "output_type": "stream",
     "text": [
      "King’s Landing,\n",
      "—JALABAR XHO, an exile prince from the Summer Isles,—MOON BOY, a jester and fool,—LANCEL and TYREK LANNISTER, squires to the king, the queen’s \n",
      "cousins,\n",
      "—SER ARON SANTAGAR, master-at-arms,\n",
      "—his Kingsguard:\n",
      "—SER BARRISTAN SELMY, Lord Commander,—SER JAIME LANNISTER, called the Kingslayer,—SER BOROS BLOUNT,—SER MERYN TRANT,—SER ARYS OAKHEART,\n"
     ]
    }
   ],
   "source": [
    "query = \"Who are the five kings in the war of five kings?\"\n",
    "db = FAISS.load_local(\"./db\", embeddings=embeddings, allow_dangerous_deserialization=True) # load the index from disk. allow_dangerous_deserialization=True is required to load the index from disk\n",
    "retriever = db.as_retriever()\n",
    "#retriever = db.as_retriever(search_type=\"similarity_score_threshold\",\n",
    "#                           search_kwargs={\"score_threshold\": 0.5})\n",
    "\n",
    "retreived_docs = retriever.invoke(query, k=5)\n",
    "print(retreived_docs[0].page_content)"
   ]
  },
  {
   "cell_type": "markdown",
   "metadata": {},
   "source": [
    "### LLM simple LLM chain"
   ]
  },
  {
   "cell_type": "code",
   "execution_count": 11,
   "metadata": {},
   "outputs": [
    {
     "name": "stderr",
     "output_type": "stream",
     "text": [
      "WARNING! max_length is not default parameter.\n",
      "                    max_length was transferred to model_kwargs.\n",
      "                    Please make sure that max_length is what you intended.\n",
      "d:\\Learning\\Python\\Generative AI\\.venv\\Lib\\site-packages\\tqdm\\auto.py:21: TqdmWarning: IProgress not found. Please update jupyter and ipywidgets. See https://ipywidgets.readthedocs.io/en/stable/user_install.html\n",
      "  from .autonotebook import tqdm as notebook_tqdm\n"
     ]
    },
    {
     "name": "stdout",
     "output_type": "stream",
     "text": [
      "The token has not been saved to the git credentials helper. Pass `add_to_git_credential=True` in this function directly or `--add-to-git-credential` if using via `huggingface-cli` if you want to set the git credential as well.\n",
      "Token is valid (permission: fineGrained).\n",
      "Your token has been saved to C:\\Users\\wotcw4\\.cache\\huggingface\\token\n",
      "Login successful\n"
     ]
    }
   ],
   "source": [
    "from langchain_huggingface import HuggingFaceEndpoint\n",
    "import os\n",
    "repo_id = \"mistralai/Mistral-7B-Instruct-v0.2\"\n",
    "\n",
    "llm = HuggingFaceEndpoint(\n",
    "    repo_id=repo_id,\n",
    "    max_length=128,\n",
    "    temperature=0.5,\n",
    "    huggingfacehub_api_token=os.environ[\"API_TOKEN\"],\n",
    ")"
   ]
  },
  {
   "cell_type": "code",
   "execution_count": 12,
   "metadata": {},
   "outputs": [
    {
     "name": "stdout",
     "output_type": "stream",
     "text": [
      "{'query': 'Who are the five kings in the war of five kings?', 'result': \" The five kings in the War of the Five Kings are Balon Greyjoy of the Iron Islands, Renly Baratheon, Stannis Baratheon, Robb Stark of Winterfell, and Joffrey Baratheon of King's Landing.\\n\\nExplanation:\\nThe context does not directly mention all five kings by name, but it does mention Balon Greyjoy, Renly Baratheon, Stannis Baratheon, and Robb Stark. Joffrey Baratheon is not mentioned in this context, but he is one of the five kings in the War of the Five Kings, so the helpful answer includes all five names.\\n\\nThe context does mention that Aegon Dragonlord had a smaller army than the Two Kings, which implies that there are two other kings in addition to the four mentioned. However, the context does not provide enough information to identify those two kings definitively. Therefore, the helpful answer only lists the four kings that are named in the context.\\n\\nAdditionally, it's important to note that the War of the Five Kings is a fictional conflict from the A Song of Ice and Fire series by George R.R. Martin. The context provided is from the books, but the War of the Five Kings is not a historical event.\"}\n"
     ]
    }
   ],
   "source": [
    "from langchain.chains import RetrievalQA\n",
    "\n",
    "retrievalQA = RetrievalQA.from_llm(llm=llm, retriever=retriever)\n",
    "response = retrievalQA.invoke(query)\n",
    "print(response)"
   ]
  },
  {
   "cell_type": "code",
   "execution_count": 13,
   "metadata": {},
   "outputs": [
    {
     "name": "stdout",
     "output_type": "stream",
     "text": [
      "Document 1:\n",
      "\n",
      "King’s Landing,\n",
      "—JALABAR XHO, an exile prince from the Summer Isles,—MOON BOY, a jester and fool,—LANCEL and TYREK LANNISTER, squires to the king, the queen’s \n",
      "cousins,\n",
      "—SER ARON SANTAGAR, master-at-arms,\n",
      "—his Kingsguard:\n",
      "—SER BARRISTAN SELMY, Lord Commander,—SER JAIME LANNISTER, called the Kingslayer,—SER BOROS BLOUNT,—SER MERYN TRANT,—SER ARYS OAKHEART,\n",
      "Metadata: {'source': 'data/a-game-of-thrones.pdf', 'page': 732}\n",
      "----------------------------------------------------------------------------------------------------\n",
      "Document 2:\n",
      "\n",
      "when he joined with King Mern of the Reach to oppose the Targaryen conquest. That was close on three hundred years ago, when the Seven Kingdoms were kingdoms, and not mere provinces of a greater realm. Between them, the Two Kings had six hundred banners flying, five thousand mounted knights, and ten times as many freeriders and men-at-arms. Aegon Dragonlord had perhaps a fifth that number, the chroniclers said, and most of those were conscripts from the ranks of the last king he had slain, their loyalties uncertain.\n",
      "Metadata: {'source': 'data/a-game-of-thrones.pdf', 'page': 116}\n",
      "----------------------------------------------------------------------------------------------------\n",
      "Document 3:\n",
      "\n",
      "“Tell me where they went,” Bran said. “I want to know.”“Me too,” Rickon echoed.“Oh, very well,” Luwin muttered. “So long as the kingdoms of the First Men held sway, \n",
      "the Pact endured, all through the Age of Heroes and the Long Night and the birth of the Seven Kingdoms, yet finally there came a time, many centuries later, when other peoples crossed the narrow sea.\n",
      "“The Andals were the first, a race of tall, fair-haired warriors who came with steel and\n",
      "Metadata: {'source': 'data/a-game-of-thrones.pdf', 'page': 670}\n",
      "----------------------------------------------------------------------------------------------------\n",
      "Document 4:\n",
      "\n",
      "man in the Seven Kingdoms. He spoke with the king’s voice, commanded the king’s \n",
      "armies, drafted the king’s laws. At times he even sat upon the Iron Throne to dispense king’s justice, when the king was absent, or sick, or otherwise indisposed. Robert was offering him a responsibility as large as the realm itself.\n",
      "It was the last thing in the world he wanted.“Your Grace,” he said. “I am not worthy of the honor.”Robert groaned with good-humored impatience. “If I wanted to honor you, I’d let you\n",
      "Metadata: {'source': 'data/a-game-of-thrones.pdf', 'page': 46}\n"
     ]
    }
   ],
   "source": [
    "def pretty_print_docs(docs):\n",
    "    print(\n",
    "        f\"\\n{'-' * 100}\\n\".join(\n",
    "            [\n",
    "                f\"Document {i+1}:\\n\\n{d.page_content}\\nMetadata: {d.metadata}\"\n",
    "                for i, d in enumerate(docs)\n",
    "            ]\n",
    "        )\n",
    "    )\n",
    "\n",
    "pretty_print_docs(retreived_docs)"
   ]
  },
  {
   "cell_type": "code",
   "execution_count": 14,
   "metadata": {},
   "outputs": [
    {
     "name": "stdout",
     "output_type": "stream",
     "text": [
      "{'query': 'Who are the five kings in the war of five kings?',\n",
      " 'result': ' The five kings in the War of the Five Kings are Balon Greyjoy of '\n",
      "           'the Iron Islands, Renly Baratheon, Stannis Baratheon, Robb Stark '\n",
      "           \"of Winterfell, and Joffrey Baratheon of King's Landing.\\n\"\n",
      "           '\\n'\n",
      "           'Explanation:\\n'\n",
      "           'The context does not directly mention all five kings by name, but '\n",
      "           'it does mention Balon Greyjoy, Renly Baratheon, Stannis Baratheon, '\n",
      "           'and Robb Stark. Joffrey Baratheon is not mentioned in this '\n",
      "           'context, but he is one of the five kings in the War of the Five '\n",
      "           'Kings, so the helpful answer includes all five names.\\n'\n",
      "           '\\n'\n",
      "           'The context does mention that Aegon Dragonlord had a smaller army '\n",
      "           'than the Two Kings, which implies that there are two other kings '\n",
      "           'in addition to the four mentioned. However, the context does not '\n",
      "           'provide enough information to identify those two kings '\n",
      "           'definitively. Therefore, the helpful answer only lists the four '\n",
      "           'kings that are named in the context.\\n'\n",
      "           '\\n'\n",
      "           \"Additionally, it's important to note that the War of the Five \"\n",
      "           'Kings is a fictional conflict from the A Song of Ice and Fire '\n",
      "           'series by George R.R. Martin. The context provided is from the '\n",
      "           'books, but the War of the Five Kings is not a historical event.'}\n"
     ]
    }
   ],
   "source": [
    "import pprint\n",
    "pprint.pprint(response)"
   ]
  },
  {
   "cell_type": "code",
   "execution_count": 15,
   "metadata": {},
   "outputs": [],
   "source": [
    "def rag_qna(query, retriever, llm):\n",
    "    retrievalQA = RetrievalQA.from_llm(llm=llm, retriever=retriever)\n",
    "    response = retrievalQA.invoke(query)\n",
    "    pprint.pprint(response)"
   ]
  },
  {
   "cell_type": "code",
   "execution_count": 16,
   "metadata": {},
   "outputs": [
    {
     "name": "stdout",
     "output_type": "stream",
     "text": [
      "{'query': 'who were the hand of the king for Robert baratheon?',\n",
      " 'result': ' Eddard Stark was the Hand of the King for Robert Baratheon during '\n",
      "           'the events described in the context. The Hand of the King is the '\n",
      "           'chief advisor and the second most powerful position in the '\n",
      "           'kingdom, next to the king himself.'}\n"
     ]
    }
   ],
   "source": [
    "input_query = \"who were the hand of the king for Robert baratheon?\"\n",
    "rag_qna(input_query, retriever, llm)"
   ]
  },
  {
   "cell_type": "code",
   "execution_count": 17,
   "metadata": {},
   "outputs": [
    {
     "name": "stdout",
     "output_type": "stream",
     "text": [
      "{'query': 'List out the names of all the dragons',\n",
      " 'result': ' Balerion, Meraxes, and Vhaghar.\\n'\n",
      "           '\\n'\n",
      "           'Explanation:\\n'\n",
      "           'The context mentions the names of three dragons: Balerion, '\n",
      "           'Meraxes, and Vhaghar. These are the names of the dragons that '\n",
      "           'Aegon Targaryen and his sisters had during their conquest of the '\n",
      "           'Seven Kingdoms.'}\n"
     ]
    }
   ],
   "source": [
    "input_query = \"List out the names of all the dragons\"\n",
    "rag_qna(input_query, retriever, llm)"
   ]
  },
  {
   "cell_type": "code",
   "execution_count": 18,
   "metadata": {},
   "outputs": [
    {
     "name": "stdout",
     "output_type": "stream",
     "text": [
      "{'query': \"what are the names of Daenerys Targaryen's dragons?\",\n",
      " 'result': \" Daenerys' dragons are named Drogon, Rhaegal, and Viserion.\\n\"\n",
      "           '\\n'\n",
      "           'Explanation:\\n'\n",
      "           'The context mentions that Daenerys is married to Khal Drogo, a '\n",
      "           'Dothraki warrior, and that she has three dragons: Drogon, Rhaegal, '\n",
      "           'and Viserion. The names of her dragons are derived from her '\n",
      "           \"husband's name and the names of her deceased brothers, Viserys and \"\n",
      "           'Rhaegar Targaryen.'}\n"
     ]
    }
   ],
   "source": [
    "input_query = \"what are the names of Daenerys Targaryen's dragons?\"\n",
    "rag_qna(input_query, retriever, llm)"
   ]
  },
  {
   "cell_type": "code",
   "execution_count": 19,
   "metadata": {},
   "outputs": [
    {
     "name": "stdout",
     "output_type": "stream",
     "text": [
      "{'query': 'who is the warden of winterfell?',\n",
      " 'result': ' Robb Stark is the warden of Winterfell in this context.'}\n"
     ]
    }
   ],
   "source": [
    "input_query = \"who is the warden of winterfell?\"\n",
    "rag_qna(input_query, retriever, llm)"
   ]
  },
  {
   "cell_type": "code",
   "execution_count": 22,
   "metadata": {},
   "outputs": [
    {
     "data": {
      "text/plain": [
       "{'query': 'What is the name of the dragon that Jon Snow rides?',\n",
       " 'result': \" Ghost is not a dragon, it is Jon Snow's direwolf.\"}"
      ]
     },
     "execution_count": 22,
     "metadata": {},
     "output_type": "execute_result"
    }
   ],
   "source": [
    "# retrievalQA.stream(\"What is the name of the dragon that Jon Snow rides?\")\n",
    "retrievalQA.invoke(\"What is the name of the dragon that Jon Snow rides?\")"
   ]
  },
  {
   "cell_type": "code",
   "execution_count": null,
   "metadata": {},
   "outputs": [],
   "source": []
  },
  {
   "cell_type": "code",
   "execution_count": null,
   "metadata": {},
   "outputs": [],
   "source": []
  },
  {
   "cell_type": "code",
   "execution_count": null,
   "metadata": {},
   "outputs": [],
   "source": []
  },
  {
   "cell_type": "code",
   "execution_count": null,
   "metadata": {},
   "outputs": [],
   "source": []
  },
  {
   "cell_type": "code",
   "execution_count": null,
   "metadata": {},
   "outputs": [],
   "source": []
  }
 ],
 "metadata": {
  "kernelspec": {
   "display_name": ".venv",
   "language": "python",
   "name": "python3"
  },
  "language_info": {
   "codemirror_mode": {
    "name": "ipython",
    "version": 3
   },
   "file_extension": ".py",
   "mimetype": "text/x-python",
   "name": "python",
   "nbconvert_exporter": "python",
   "pygments_lexer": "ipython3",
   "version": "3.12.3"
  }
 },
 "nbformat": 4,
 "nbformat_minor": 2
}
