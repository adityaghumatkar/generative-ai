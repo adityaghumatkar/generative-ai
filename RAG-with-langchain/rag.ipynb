{
 "cells": [
  {
   "cell_type": "code",
   "execution_count": 2,
   "metadata": {},
   "outputs": [],
   "source": [
    "import os\n",
    "from dotenv import load_dotenv\n"
   ]
  },
  {
   "cell_type": "code",
   "execution_count": 3,
   "metadata": {},
   "outputs": [
    {
     "data": {
      "text/plain": [
       "True"
      ]
     },
     "execution_count": 3,
     "metadata": {},
     "output_type": "execute_result"
    }
   ],
   "source": [
    "load_dotenv(dotenv_path='../.env')"
   ]
  },
  {
   "cell_type": "markdown",
   "metadata": {},
   "source": [
    "### Loading text file"
   ]
  },
  {
   "cell_type": "code",
   "execution_count": 4,
   "metadata": {},
   "outputs": [],
   "source": [
    "from langchain_community.document_loaders import TextLoader\n",
    "filename = \"game-of-thrones.txt\"\n",
    "\n",
    "loader = TextLoader(filename, encoding=\"utf-8\")\n",
    "docs = loader.load() # returns a list of Document objects representing the pages of the document"
   ]
  },
  {
   "cell_type": "markdown",
   "metadata": {},
   "source": [
    "### Splitting into chunks"
   ]
  },
  {
   "cell_type": "code",
   "execution_count": 5,
   "metadata": {},
   "outputs": [
    {
     "name": "stderr",
     "output_type": "stream",
     "text": [
      "Created a chunk of size 563, which is longer than the specified 500\n"
     ]
    },
    {
     "data": {
      "text/plain": [
       "[Document(metadata={'source': 'game-of-thrones.txt'}, page_content='*Game of Thrones* is a sprawling epic fantasy series based on George R.R. Martin’s *A Song of Ice and Fire* novels. Set in the fictional continents of Westeros and Essos, the series is renowned for its intricate plots, diverse characters, and unpredictable twists. The story is centered on the power struggles among noble families as they vie for control of the Iron Throne of the Seven Kingdoms.\\n### The Setting'),\n",
       " Document(metadata={'source': 'game-of-thrones.txt'}, page_content='### The Setting\\nThe narrative is set in a world where seasons can last for decades. Westeros is divided into several regions, each ruled by a prominent house. The Seven Kingdoms are governed by the Iron Throne, a seat of immense power located in the capital, King’s Landing. Across the Narrow Sea lies Essos, a continent known for its diverse cultures and cities like Braavos and Volantis.\\n### The Major Houses'),\n",
       " Document(metadata={'source': 'game-of-thrones.txt'}, page_content='### The Major Houses\\n1. **House Stark**: The noble family of the North, with their ancestral seat at Winterfell. Eddard (Ned) Stark, the patriarch, is known for his honor and integrity. His family includes his wife Catelyn, their children Robb, Sansa, Arya, Bran, and Rickon, and his illegitimate son Jon Snow.'),\n",
       " Document(metadata={'source': 'game-of-thrones.txt'}, page_content='2. **House Lannister**: One of the richest families in Westeros, with their seat at Casterly Rock. Key figures include Tywin Lannister, the cunning patriarch; his children Jaime, a skilled knight; Cersei, the ambitious queen; and Tyrion, the sharp-witted and disdained younger brother.'),\n",
       " Document(metadata={'source': 'game-of-thrones.txt'}, page_content='3. **House Targaryen**: Once rulers of the Seven Kingdoms before being overthrown. The Targaryens are known for their dragons and Valyrian blood. Daenerys Targaryen, the last surviving member, seeks to reclaim the throne with her dragons and growing army.\\n### The Plot\\n#### **Season 1: The Rise of Conflicts**'),\n",
       " Document(metadata={'source': 'game-of-thrones.txt'}, page_content='The series begins with Eddard Stark being appointed as Hand of the King to his old friend, King Robert Baratheon. Eddard travels to King’s Landing with his daughters Sansa and Arya, leaving his wife Catelyn and their other children behind. In the capital, Eddard uncovers dark secrets about the Lannisters, including that Queen Cersei and her brother Jaime are involved in an incestuous relationship. This revelation sets off a chain of events leading to political intrigue and conflict.'),\n",
       " Document(metadata={'source': 'game-of-thrones.txt'}, page_content='#### **Season 2: The War of the Five Kings**\\nRobert Baratheon’s death ignites a civil war as several claimants vie for the Iron Throne. Robb Stark, declared King in the North, wages war against the Lannisters. Stannis Baratheon, Robert’s brother, claims the throne, as does his brother Renly. Meanwhile, Balon Greyjoy declares himself King of the Iron Islands. The war leads to brutal battles and shifting alliances.\\n#### **Season 3: The Red Wedding and Beyond**'),\n",
       " Document(metadata={'source': 'game-of-thrones.txt'}, page_content='The season features the infamous Red Wedding, where Robb Stark, his mother Catelyn, and many of his bannermen are brutally murdered at a wedding feast orchestrated by House Frey and House Bolton, allies of the Lannisters. Daenerys Targaryen begins her campaign to conquer Essos, liberating cities and amassing followers. Jon Snow, now a member of the Night’s Watch, is sent undercover to the Wildlings, a group living beyond the Wall.'),\n",
       " Document(metadata={'source': 'game-of-thrones.txt'}, page_content='#### **Season 4: The Fall of Tyrion and the Rise of the Sparrows**\\nTyrion Lannister is accused of poisoning King Joffrey and is put on trial. Despite his protestations of innocence, he is sentenced to death but escapes with the help of his brother Jaime and ally Varys. Meanwhile, the religious movement known as the Sparrows gains power in King’s Landing, leading to increased tension. Daenerys struggles with ruling the city of Meereen and contemplates her next move.'),\n",
       " Document(metadata={'source': 'game-of-thrones.txt'}, page_content='#### **Season 5: The War in the North and South**\\nThe season focuses on several key events: Cersei Lannister’s power struggle with the religious zealots, the rise of the Sand Snakes in Dorne, and the ongoing struggle in the North as Stannis Baratheon’s army faces off against the Boltons. Jon Snow is elected as Lord Commander of the Night’s Watch and makes controversial decisions, including allowing Wildlings to settle south of the Wall.'),\n",
       " Document(metadata={'source': 'game-of-thrones.txt'}, page_content='#### **Season 6: The Return of the Targaryens and the Battle of the Bastards**\\nKey events include Jon Snow’s resurrection, the Battle of the Bastards, where Jon and Sansa Stark reclaim Winterfell from Ramsay Bolton. Daenerys Targaryen makes a triumphant return to Westeros, allying with Tyrion Lannister and forging a path towards the Iron Throne. Bran Stark begins to uncover the mysteries of the past with his powers as a greenseer.\\n#### **Season 7: The Great War Approaches**'),\n",
       " Document(metadata={'source': 'game-of-thrones.txt'}, page_content='The season accelerates towards the impending clash with the White Walkers. Daenerys, now with her dragons and armies, joins forces with Jon Snow, who has been revealed to have Targaryen blood. They attempt to persuade the Northern lords and other factions to unite against the threat from the North. Key developments include the destruction of the Wall and the Night King’s attack on Eastwatch.\\n#### **Season 8: The Final Confrontation**'),\n",
       " Document(metadata={'source': 'game-of-thrones.txt'}, page_content=\"The final season wraps up the storylines. The great battle against the Night King culminates in the Battle of Winterfell, where Arya Stark kills the Night King, saving humanity from extinction. Following this, the focus shifts to the conflict for the Iron Throne. Daenerys' quest for power leads to her downfall, as Jon Snow and Arya Stark play crucial roles in the final struggle. The series concludes with Bran Stark being elected as King of the Six Kingdoms, Jon Snow being sent to the Night’s Watch, and Sansa Stark declaring the North an independent kingdom.\"),\n",
       " Document(metadata={'source': 'game-of-thrones.txt'}, page_content='### Themes and Legacy\\n*Game of Thrones* is noted for its exploration of power, betrayal, and survival. It highlights the moral ambiguities of its characters and the often brutal consequences of political machinations. The series has received critical acclaim for its production values, complex characters, and dramatic storytelling, though it has also faced criticism for its depiction of violence and its controversial ending.'),\n",
       " Document(metadata={'source': 'game-of-thrones.txt'}, page_content='Overall, *Game of Thrones* has left a significant mark on television and popular culture, inspiring a dedicated fanbase and several spin-off projects exploring the rich lore of Westeros and beyond.')]"
      ]
     },
     "metadata": {},
     "output_type": "display_data"
    }
   ],
   "source": [
    "from langchain_text_splitters.character import CharacterTextSplitter\n",
    "\n",
    "chunk_size = 500\n",
    "chunk_overlap = 30\n",
    "text_splitter = CharacterTextSplitter(separator=\"\\n\", chunk_size=chunk_size, chunk_overlap=chunk_overlap)\n",
    "\n",
    "splits = text_splitter.split_documents(docs)\n",
    "display(splits)"
   ]
  },
  {
   "cell_type": "markdown",
   "metadata": {},
   "source": [
    "### Embedding"
   ]
  },
  {
   "cell_type": "code",
   "execution_count": 11,
   "metadata": {},
   "outputs": [],
   "source": [
    "import requests\n",
    "from langchain_community.embeddings import HuggingFaceInferenceAPIEmbeddings\n",
    "import numpy as np\n",
    "# model_id = \"sentence-transformers/all-MiniLM-L6-v2\"\n",
    "hf_token = os.environ[\"API_TOKEN\"]\n",
    "\n",
    "# api_url = f\"https://api-inference.huggingface.co/pipeline/feature-extraction/{model_id}\"\n",
    "# headers = {\"Authorization\": f\"Bearer {hf_token}\"}  # API token\n",
    "\n",
    "# def get_embedding_vectors(splits):\n",
    "#     response = requests.post(api_url, headers=headers, json={\"inputs\": splits, \"options\":{\"wait_for_model\":True}})\n",
    "#     return response.json()\n",
    "# get_embedding_vectors(splits)\n",
    "\n",
    "embeddings = HuggingFaceInferenceAPIEmbeddings(\n",
    "    api_key=hf_token,\n",
    "    model_name=\"sentence-transformers/all-MiniLM-l6-v2\"\n",
    ")\n",
    "\n",
    "vectors = np.array(embeddings.embed_documents([document.page_content for document in splits]))"
   ]
  },
  {
   "cell_type": "markdown",
   "metadata": {},
   "source": [
    "### Cosine Similarity"
   ]
  },
  {
   "cell_type": "code",
   "execution_count": 41,
   "metadata": {},
   "outputs": [
    {
     "data": {
      "text/plain": [
       "'Similarity between \"I love coding with Langchain\" and \"LangChain is great for coding\": 0.07267455057548255'"
      ]
     },
     "metadata": {},
     "output_type": "display_data"
    },
    {
     "data": {
      "text/plain": [
       "'Similarity between \"I love coding with Langchain\" and \"Bananan contains a lot of potassium\": 0.9172076476027506'"
      ]
     },
     "metadata": {},
     "output_type": "display_data"
    },
    {
     "data": {
      "text/plain": [
       "'Similarity between \"LangChain is great for coding\" and \"Bananan contains a lot of potassium\": 0.9085639972989409'"
      ]
     },
     "metadata": {},
     "output_type": "display_data"
    }
   ],
   "source": [
    "#cosine method give the distance between the two vectors and 1-cosine then gives the similarity. Higher the number, more similar the two vectors are.\n",
    "\n",
    "from scipy.spatial.distance import cosine\n",
    "\n",
    "sentence1 = \"I love coding with Langchain\"\n",
    "sentence2 = \"LangChain is great for coding\"\n",
    "sentence3 = \"Bananan contains a lot of potassium\"\n",
    "\n",
    "e1 = embeddings.embed_query(sentence1)\n",
    "e2 = embeddings.embed_query(sentence2)\n",
    "e3 = embeddings.embed_query(sentence3)\n",
    "\n",
    "similarity1_2 = 1 - cosine(e1, e2)\n",
    "similarity1_3 = 1 - cosine(e1, e3)\n",
    "similarity2_3 = 1 - cosine(e2, e3)\n",
    "\n",
    "display(f'Similarity between \"{sentence1}\" and \"{sentence2}\": {similarity1_2}')\n",
    "display(f'Similarity between \"{sentence1}\" and \"{sentence3}\": {similarity1_3}')\n",
    "display(f'Similarity between \"{sentence2}\" and \"{sentence3}\": {similarity2_3}')"
   ]
  },
  {
   "cell_type": "markdown",
   "metadata": {},
   "source": [
    "### Vector stores"
   ]
  },
  {
   "cell_type": "code",
   "execution_count": 43,
   "metadata": {},
   "outputs": [
    {
     "name": "stdout",
     "output_type": "stream",
     "text": [
      "#### **Season 2: The War of the Five Kings**\n",
      "Robert Baratheon’s death ignites a civil war as several claimants vie for the Iron Throne. Robb Stark, declared King in the North, wages war against the Lannisters. Stannis Baratheon, Robert’s brother, claims the throne, as does his brother Renly. Meanwhile, Balon Greyjoy declares himself King of the Iron Islands. The war leads to brutal battles and shifting alliances.\n",
      "#### **Season 3: The Red Wedding and Beyond**\n"
     ]
    }
   ],
   "source": [
    "from langchain_chroma import Chroma\n",
    "\n",
    "# load it into vector database\n",
    "db = Chroma.from_documents(splits, embeddings)\n",
    "\n",
    "# query it\n",
    "query = \"Who are the five kings in the war of five kings?\"\n",
    "docs = db.similarity_search(query, k=5)\n",
    "\n",
    "# print results\n",
    "print(docs[0].page_content)\n"
   ]
  },
  {
   "cell_type": "code",
   "execution_count": 26,
   "metadata": {},
   "outputs": [],
   "source": [
    "import faiss\n",
    "from faiss import write_index, read_index\n",
    "from langchain_community.vectorstores import FAISS\n",
    "\n",
    "db = FAISS.from_documents(splits, embeddings)\n",
    "db.save_local(\"./db\") # save it to disk\n"
   ]
  },
  {
   "cell_type": "markdown",
   "metadata": {},
   "source": [
    "### Retrieval with semantic search"
   ]
  },
  {
   "cell_type": "code",
   "execution_count": 29,
   "metadata": {},
   "outputs": [
    {
     "name": "stdout",
     "output_type": "stream",
     "text": [
      "#### **Season 2: The War of the Five Kings**\n",
      "Robert Baratheon’s death ignites a civil war as several claimants vie for the Iron Throne. Robb Stark, declared King in the North, wages war against the Lannisters. Stannis Baratheon, Robert’s brother, claims the throne, as does his brother Renly. Meanwhile, Balon Greyjoy declares himself King of the Iron Islands. The war leads to brutal battles and shifting alliances.\n",
      "#### **Season 3: The Red Wedding and Beyond**\n"
     ]
    }
   ],
   "source": [
    "query = \"Who are the five kings in the war of five kings?\"\n",
    "db = FAISS.load_local(\"./db\", embeddings=embeddings, allow_dangerous_deserialization=True) # load the index from disk. allow_dangerous_deserialization=True is required to load the index from disk\n",
    "retriever = db.as_retriever()\n",
    "#retriever = db.as_retriever(search_type=\"similarity_score_threshold\",\n",
    "#                           search_kwargs={\"score_threshold\": 0.5})\n",
    "\n",
    "retreived_docs = retriever.invoke(query, k=5) # returns a list of Document objects\n",
    "print(retreived_docs[0].page_content)"
   ]
  },
  {
   "cell_type": "markdown",
   "metadata": {},
   "source": [
    "### LLM simple LLM chain"
   ]
  },
  {
   "cell_type": "code",
   "execution_count": null,
   "metadata": {},
   "outputs": [],
   "source": []
  },
  {
   "cell_type": "code",
   "execution_count": null,
   "metadata": {},
   "outputs": [],
   "source": []
  }
 ],
 "metadata": {
  "kernelspec": {
   "display_name": ".venv",
   "language": "python",
   "name": "python3"
  },
  "language_info": {
   "codemirror_mode": {
    "name": "ipython",
    "version": 3
   },
   "file_extension": ".py",
   "mimetype": "text/x-python",
   "name": "python",
   "nbconvert_exporter": "python",
   "pygments_lexer": "ipython3",
   "version": "3.12.3"
  }
 },
 "nbformat": 4,
 "nbformat_minor": 2
}
